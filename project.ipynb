{
 "cells": [
  {
   "cell_type": "markdown",
   "id": "5e8cb3f3-8f64-4aa9-8a22-3e1927013e93",
   "metadata": {},
   "source": [
    "Title:"
   ]
  },
  {
   "cell_type": "markdown",
   "id": "3c802795-2da7-4d64-be75-6984aa627dd3",
   "metadata": {},
   "source": [
    "Introduction:"
   ]
  },
  {
   "cell_type": "markdown",
   "id": "d4194599-776b-4f83-b027-f4f0a4acdaad",
   "metadata": {},
   "source": [
    "Methods:"
   ]
  },
  {
   "cell_type": "markdown",
   "id": "ac383107-c051-4637-a1d1-ccbb4575a4f8",
   "metadata": {},
   "source": [
    "describe the methods you used to perform your analysis from beginning to end that narrates the analysis code.\n",
    "your report should include code which:\n",
    "loads data \n",
    "wrangles and cleans the data to the format necessary for the planned analysis\n",
    "performs a summary of the data set that is relevant for exploratory data analysis related to the planned analysis \n",
    "creates a visualization of the dataset that is relevant for exploratory data analysis related to the planned analysis\n",
    "performs the data analysis\n",
    "creates a visualization of the analysis \n",
    "note: all figures should have a figure number and a legend"
   ]
  },
  {
   "cell_type": "markdown",
   "id": "c15941ae-ff39-4853-91e7-19b7259bcde6",
   "metadata": {},
   "source": [
    "For classification and data analysis, certain libraries must be loaded to R."
   ]
  },
  {
   "cell_type": "code",
   "execution_count": 3,
   "id": "4a5c783c-7603-4e4f-b963-18fd55feb7fa",
   "metadata": {},
   "outputs": [],
   "source": [
    "library(tidyverse)\n",
    "library(tidymodels)\n",
    "library(repr)\n",
    "library(digest)\n",
    "library(infer)\n",
    "library(gridExtra)"
   ]
  },
  {
   "cell_type": "code",
   "execution_count": null,
   "id": "847b58cf-b04d-4d0b-9ff7-369580db6981",
   "metadata": {},
   "outputs": [],
   "source": []
  },
  {
   "cell_type": "code",
   "execution_count": null,
   "id": "514780a7-8268-4f0f-838f-25271b912561",
   "metadata": {},
   "outputs": [],
   "source": []
  }
 ],
 "metadata": {
  "kernelspec": {
   "display_name": "R",
   "language": "R",
   "name": "ir"
  },
  "language_info": {
   "codemirror_mode": "r",
   "file_extension": ".r",
   "mimetype": "text/x-r-source",
   "name": "R",
   "pygments_lexer": "r",
   "version": "4.3.3"
  }
 },
 "nbformat": 4,
 "nbformat_minor": 5
}
